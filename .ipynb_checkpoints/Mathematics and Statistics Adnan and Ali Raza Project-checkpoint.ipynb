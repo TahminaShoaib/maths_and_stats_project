{
 "cells": [
  {
   "cell_type": "markdown",
   "id": "5482d98e-0ad8-4f92-a44b-edbaaa43407f",
   "metadata": {},
   "source": [
    "# House Price Prediction using Linear Regression\n",
    "## 1.   This model predicts the house prices using linear regression model.\n",
    "## 2.   The dataset is of zameen.com, one of Pakistan's prime online real estate platform.\n",
    "## 3.   The dataset is very large consisting of 191,393 records for five cities as: \n",
    "### - Karachi\n",
    "### - Lahore\n",
    "### - Rawalpindi\n",
    "### - Islamabad\n",
    "### - Faisalabad.\n",
    "## 4.   We are using the data from Karachi to apply the price prediction model for 'Karachi'.\n",
    "## 5.   Moreover, There are many property types such as plot, house, flat, penthouse etc. \n",
    "## 6.   For building an efficient model we have used property type as 'House'."
   ]
  },
  {
   "cell_type": "code",
   "execution_count": 1,
   "id": "b2e02f32-9f86-46af-af04-c7f86959f60d",
   "metadata": {},
   "outputs": [],
   "source": [
    "#import libraries \n",
    "import pandas as pd\n",
    "import numpy as np\n",
    "import matplotlib.pyplot as plt\n",
    "import seaborn as sns\n",
    "\n",
    "plt.style.use('bmh')\n",
    "%matplotlib inline"
   ]
  },
  {
   "cell_type": "code",
   "execution_count": 2,
   "id": "0ae42be6-2959-4604-8745-1a9c24362cbb",
   "metadata": {},
   "outputs": [
    {
     "name": "stdout",
     "output_type": "stream",
     "text": [
      "<class 'pandas.core.frame.DataFrame'>\n",
      "RangeIndex: 191393 entries, 0 to 191392\n",
      "Data columns (total 13 columns):\n",
      " #   Column         Non-Null Count   Dtype  \n",
      "---  ------         --------------   -----  \n",
      " 0   property_id    191393 non-null  int64  \n",
      " 1   location_id    191393 non-null  int64  \n",
      " 2   property_type  191393 non-null  object \n",
      " 3   price          191393 non-null  int64  \n",
      " 4   location       191393 non-null  object \n",
      " 5   city           191393 non-null  object \n",
      " 6   province_name  191393 non-null  object \n",
      " 7   latitude       191393 non-null  float64\n",
      " 8   longitude      191393 non-null  float64\n",
      " 9   baths          191393 non-null  int64  \n",
      " 10  area           191393 non-null  object \n",
      " 11  purpose        191393 non-null  object \n",
      " 12  bedrooms       191393 non-null  int64  \n",
      "dtypes: float64(2), int64(5), object(6)\n",
      "memory usage: 19.0+ MB\n"
     ]
    }
   ],
   "source": [
    "#reading dataset\n",
    "df =  pd.read_csv('property_House_Zammeen_com.csv', sep=',')\n",
    "# Drop rows where 'price' is less than 100,000\n",
    "#df = df[df['price'] >= 500000]\n",
    "df.drop(\"Unnamed: 0\", axis=1, inplace=True)\n",
    "df.info()"
   ]
  },
  {
   "cell_type": "code",
   "execution_count": 3,
   "id": "3989e9aa",
   "metadata": {},
   "outputs": [
    {
     "data": {
      "text/html": [
       "<div>\n",
       "<style scoped>\n",
       "    .dataframe tbody tr th:only-of-type {\n",
       "        vertical-align: middle;\n",
       "    }\n",
       "\n",
       "    .dataframe tbody tr th {\n",
       "        vertical-align: top;\n",
       "    }\n",
       "\n",
       "    .dataframe thead th {\n",
       "        text-align: right;\n",
       "    }\n",
       "</style>\n",
       "<table border=\"1\" class=\"dataframe\">\n",
       "  <thead>\n",
       "    <tr style=\"text-align: right;\">\n",
       "      <th></th>\n",
       "      <th>property_id</th>\n",
       "      <th>location_id</th>\n",
       "      <th>property_type</th>\n",
       "      <th>price</th>\n",
       "      <th>location</th>\n",
       "      <th>city</th>\n",
       "      <th>province_name</th>\n",
       "      <th>latitude</th>\n",
       "      <th>longitude</th>\n",
       "      <th>baths</th>\n",
       "      <th>area</th>\n",
       "      <th>purpose</th>\n",
       "      <th>bedrooms</th>\n",
       "    </tr>\n",
       "  </thead>\n",
       "  <tbody>\n",
       "    <tr>\n",
       "      <th>0</th>\n",
       "      <td>347795</td>\n",
       "      <td>8</td>\n",
       "      <td>House</td>\n",
       "      <td>220000000</td>\n",
       "      <td>Model Town</td>\n",
       "      <td>Lahore</td>\n",
       "      <td>Punjab</td>\n",
       "      <td>31.483869</td>\n",
       "      <td>74.325686</td>\n",
       "      <td>0</td>\n",
       "      <td>6 Kanal</td>\n",
       "      <td>For Sale</td>\n",
       "      <td>0</td>\n",
       "    </tr>\n",
       "    <tr>\n",
       "      <th>1</th>\n",
       "      <td>482892</td>\n",
       "      <td>48</td>\n",
       "      <td>House</td>\n",
       "      <td>40000000</td>\n",
       "      <td>Multan Road</td>\n",
       "      <td>Lahore</td>\n",
       "      <td>Punjab</td>\n",
       "      <td>31.431593</td>\n",
       "      <td>74.179980</td>\n",
       "      <td>5</td>\n",
       "      <td>1 Kanal</td>\n",
       "      <td>For Sale</td>\n",
       "      <td>5</td>\n",
       "    </tr>\n",
       "    <tr>\n",
       "      <th>2</th>\n",
       "      <td>555962</td>\n",
       "      <td>75</td>\n",
       "      <td>House</td>\n",
       "      <td>9500000</td>\n",
       "      <td>Eden</td>\n",
       "      <td>Lahore</td>\n",
       "      <td>Punjab</td>\n",
       "      <td>31.499348</td>\n",
       "      <td>74.416959</td>\n",
       "      <td>0</td>\n",
       "      <td>9 Marla</td>\n",
       "      <td>For Sale</td>\n",
       "      <td>3</td>\n",
       "    </tr>\n",
       "    <tr>\n",
       "      <th>3</th>\n",
       "      <td>562843</td>\n",
       "      <td>3821</td>\n",
       "      <td>House</td>\n",
       "      <td>125000000</td>\n",
       "      <td>Gulberg</td>\n",
       "      <td>Lahore</td>\n",
       "      <td>Punjab</td>\n",
       "      <td>31.522069</td>\n",
       "      <td>74.355512</td>\n",
       "      <td>7</td>\n",
       "      <td>1 Kanal</td>\n",
       "      <td>For Sale</td>\n",
       "      <td>8</td>\n",
       "    </tr>\n",
       "    <tr>\n",
       "      <th>4</th>\n",
       "      <td>686990</td>\n",
       "      <td>3522</td>\n",
       "      <td>House</td>\n",
       "      <td>21000000</td>\n",
       "      <td>Allama Iqbal Town</td>\n",
       "      <td>Lahore</td>\n",
       "      <td>Punjab</td>\n",
       "      <td>31.506483</td>\n",
       "      <td>74.286017</td>\n",
       "      <td>5</td>\n",
       "      <td>11 Marla</td>\n",
       "      <td>For Sale</td>\n",
       "      <td>6</td>\n",
       "    </tr>\n",
       "  </tbody>\n",
       "</table>\n",
       "</div>"
      ],
      "text/plain": [
       "   property_id  location_id property_type      price           location  \\\n",
       "0       347795            8         House  220000000         Model Town   \n",
       "1       482892           48         House   40000000        Multan Road   \n",
       "2       555962           75         House    9500000               Eden   \n",
       "3       562843         3821         House  125000000            Gulberg   \n",
       "4       686990         3522         House   21000000  Allama Iqbal Town   \n",
       "\n",
       "     city province_name   latitude  longitude  baths      area   purpose  \\\n",
       "0  Lahore        Punjab  31.483869  74.325686      0   6 Kanal  For Sale   \n",
       "1  Lahore        Punjab  31.431593  74.179980      5   1 Kanal  For Sale   \n",
       "2  Lahore        Punjab  31.499348  74.416959      0   9 Marla  For Sale   \n",
       "3  Lahore        Punjab  31.522069  74.355512      7   1 Kanal  For Sale   \n",
       "4  Lahore        Punjab  31.506483  74.286017      5  11 Marla  For Sale   \n",
       "\n",
       "   bedrooms  \n",
       "0         0  \n",
       "1         5  \n",
       "2         3  \n",
       "3         8  \n",
       "4         6  "
      ]
     },
     "execution_count": 3,
     "metadata": {},
     "output_type": "execute_result"
    }
   ],
   "source": [
    "df.head()"
   ]
  },
  {
   "cell_type": "code",
   "execution_count": 4,
   "id": "9a8cfa49",
   "metadata": {},
   "outputs": [
    {
     "data": {
      "text/html": [
       "<div>\n",
       "<style scoped>\n",
       "    .dataframe tbody tr th:only-of-type {\n",
       "        vertical-align: middle;\n",
       "    }\n",
       "\n",
       "    .dataframe tbody tr th {\n",
       "        vertical-align: top;\n",
       "    }\n",
       "\n",
       "    .dataframe thead th {\n",
       "        text-align: right;\n",
       "    }\n",
       "</style>\n",
       "<table border=\"1\" class=\"dataframe\">\n",
       "  <thead>\n",
       "    <tr style=\"text-align: right;\">\n",
       "      <th></th>\n",
       "      <th>property_id</th>\n",
       "      <th>location_id</th>\n",
       "      <th>property_type</th>\n",
       "      <th>price</th>\n",
       "      <th>location</th>\n",
       "      <th>city</th>\n",
       "      <th>province_name</th>\n",
       "      <th>latitude</th>\n",
       "      <th>longitude</th>\n",
       "      <th>baths</th>\n",
       "      <th>area</th>\n",
       "      <th>purpose</th>\n",
       "      <th>bedrooms</th>\n",
       "      <th>price_digit_length</th>\n",
       "    </tr>\n",
       "  </thead>\n",
       "  <tbody>\n",
       "    <tr>\n",
       "      <th>0</th>\n",
       "      <td>347795</td>\n",
       "      <td>8</td>\n",
       "      <td>House</td>\n",
       "      <td>220000000</td>\n",
       "      <td>Model Town</td>\n",
       "      <td>Lahore</td>\n",
       "      <td>Punjab</td>\n",
       "      <td>31.483869</td>\n",
       "      <td>74.325686</td>\n",
       "      <td>0</td>\n",
       "      <td>6 Kanal</td>\n",
       "      <td>For Sale</td>\n",
       "      <td>0</td>\n",
       "      <td>9</td>\n",
       "    </tr>\n",
       "    <tr>\n",
       "      <th>1</th>\n",
       "      <td>482892</td>\n",
       "      <td>48</td>\n",
       "      <td>House</td>\n",
       "      <td>40000000</td>\n",
       "      <td>Multan Road</td>\n",
       "      <td>Lahore</td>\n",
       "      <td>Punjab</td>\n",
       "      <td>31.431593</td>\n",
       "      <td>74.179980</td>\n",
       "      <td>5</td>\n",
       "      <td>1 Kanal</td>\n",
       "      <td>For Sale</td>\n",
       "      <td>5</td>\n",
       "      <td>8</td>\n",
       "    </tr>\n",
       "    <tr>\n",
       "      <th>2</th>\n",
       "      <td>555962</td>\n",
       "      <td>75</td>\n",
       "      <td>House</td>\n",
       "      <td>9500000</td>\n",
       "      <td>Eden</td>\n",
       "      <td>Lahore</td>\n",
       "      <td>Punjab</td>\n",
       "      <td>31.499348</td>\n",
       "      <td>74.416959</td>\n",
       "      <td>0</td>\n",
       "      <td>9 Marla</td>\n",
       "      <td>For Sale</td>\n",
       "      <td>3</td>\n",
       "      <td>7</td>\n",
       "    </tr>\n",
       "    <tr>\n",
       "      <th>3</th>\n",
       "      <td>562843</td>\n",
       "      <td>3821</td>\n",
       "      <td>House</td>\n",
       "      <td>125000000</td>\n",
       "      <td>Gulberg</td>\n",
       "      <td>Lahore</td>\n",
       "      <td>Punjab</td>\n",
       "      <td>31.522069</td>\n",
       "      <td>74.355512</td>\n",
       "      <td>7</td>\n",
       "      <td>1 Kanal</td>\n",
       "      <td>For Sale</td>\n",
       "      <td>8</td>\n",
       "      <td>9</td>\n",
       "    </tr>\n",
       "    <tr>\n",
       "      <th>4</th>\n",
       "      <td>686990</td>\n",
       "      <td>3522</td>\n",
       "      <td>House</td>\n",
       "      <td>21000000</td>\n",
       "      <td>Allama Iqbal Town</td>\n",
       "      <td>Lahore</td>\n",
       "      <td>Punjab</td>\n",
       "      <td>31.506483</td>\n",
       "      <td>74.286017</td>\n",
       "      <td>5</td>\n",
       "      <td>11 Marla</td>\n",
       "      <td>For Sale</td>\n",
       "      <td>6</td>\n",
       "      <td>8</td>\n",
       "    </tr>\n",
       "  </tbody>\n",
       "</table>\n",
       "</div>"
      ],
      "text/plain": [
       "   property_id  location_id property_type      price           location  \\\n",
       "0       347795            8         House  220000000         Model Town   \n",
       "1       482892           48         House   40000000        Multan Road   \n",
       "2       555962           75         House    9500000               Eden   \n",
       "3       562843         3821         House  125000000            Gulberg   \n",
       "4       686990         3522         House   21000000  Allama Iqbal Town   \n",
       "\n",
       "     city province_name   latitude  longitude  baths      area   purpose  \\\n",
       "0  Lahore        Punjab  31.483869  74.325686      0   6 Kanal  For Sale   \n",
       "1  Lahore        Punjab  31.431593  74.179980      5   1 Kanal  For Sale   \n",
       "2  Lahore        Punjab  31.499348  74.416959      0   9 Marla  For Sale   \n",
       "3  Lahore        Punjab  31.522069  74.355512      7   1 Kanal  For Sale   \n",
       "4  Lahore        Punjab  31.506483  74.286017      5  11 Marla  For Sale   \n",
       "\n",
       "   bedrooms  price_digit_length  \n",
       "0         0                   9  \n",
       "1         5                   8  \n",
       "2         3                   7  \n",
       "3         8                   9  \n",
       "4         6                   8  "
      ]
     },
     "execution_count": 4,
     "metadata": {},
     "output_type": "execute_result"
    }
   ],
   "source": [
    "# Ensure the 'price' column is in numeric format (if not already)\n",
    "df['price'] = pd.to_numeric(df['price'], errors='coerce')\n",
    "\n",
    "# Get the length of the digits in the 'price' column\n",
    "df['price_digit_length'] = df['price'].apply(lambda x: len(str(int(x))) if pd.notna(x) else 0)\n",
    "df.head()"
   ]
  },
  {
   "cell_type": "code",
   "execution_count": 5,
   "id": "003796d6",
   "metadata": {},
   "outputs": [
    {
     "data": {
      "image/png": "[encoded data removed]",
      "text/plain": [
       "<Figure size 800x800 with 1 Axes>"
      ]
     },
     "metadata": {},
     "output_type": "display_data"
    }
   ],
   "source": [
    "import matplotlib.pyplot as plt\n",
    "\n",
    "# Get the count and percentage of each unique value in 'price_digit_length'\n",
    "count_data = df['price_digit_length'].value_counts()\n",
    "percentage_data = df['price_digit_length'].value_counts(normalize=True) * 100\n",
    "\n",
    "# Combine count and percentage into one string\n",
    "labels = [f\"{i} ({count_data[i]} - {percentage_data[i]:.2f}%)\" for i in count_data.index]\n",
    "\n",
    "# Plot the pie chart\n",
    "plt.figure(figsize=(8, 8))\n",
    "plt.pie(count_data, labels=labels, autopct='%1.1f%%', startangle=90, colors=sns.color_palette(\"Set2\", len(count_data)))\n",
    "\n",
    "# Equal aspect ratio ensures that pie is drawn as a circle.\n",
    "plt.axis('equal')  \n",
    "plt.title('Price Digit Length Distribution')\n",
    "\n",
    "# Show the plot\n",
    "plt.show()"
   ]
  },
  {
   "cell_type": "code",
   "execution_count": 6,
   "id": "2717d903",
   "metadata": {},
   "outputs": [
    {
     "data": {
      "text/plain": [
       "price_digit_length\n",
       "8     39.993103\n",
       "5     26.079324\n",
       "7     23.918848\n",
       "6      7.338826\n",
       "9      2.453068\n",
       "4      0.199067\n",
       "1      0.010450\n",
       "10     0.005225\n",
       "2      0.002090\n",
       "Name: proportion, dtype: float64"
      ]
     },
     "execution_count": 6,
     "metadata": {},
     "output_type": "execute_result"
    }
   ],
   "source": [
    "percentage_data"
   ]
  },
  {
   "cell_type": "code",
   "execution_count": 7,
   "id": "de7c71db",
   "metadata": {
    "scrolled": false
   },
   "outputs": [
    {
     "name": "stdout",
     "output_type": "stream",
     "text": [
      "\n",
      "Crosstab of price_digit_length with property_type:\n",
      "property_type       Farm House   Flat   House  Lower Portion  Penthouse  Room  \\\n",
      "price_digit_length                                                              \n",
      "1                            2      2      16              0          0     0   \n",
      "2                            0      0       2              1          0     0   \n",
      "4                            0     86      42             18          1   190   \n",
      "5                           47  10382   14328           9790         64   815   \n",
      "6                           53   1282   10469            886         39     1   \n",
      "7                           70  17974   25325            571        132    14   \n",
      "8                          445  10359   64225            427        148     9   \n",
      "9                          108     72    4498              0         15     0   \n",
      "10                           0      0      10              0          0     0   \n",
      "Total                      725  40157  118915          11693        399  1029   \n",
      "\n",
      "property_type       Upper Portion   Total  \n",
      "price_digit_length                         \n",
      "1                               0      20  \n",
      "2                               1       4  \n",
      "4                              44     381  \n",
      "5                           14488   49914  \n",
      "6                            1316   14046  \n",
      "7                            1693   45779  \n",
      "8                             931   76544  \n",
      "9                               2    4695  \n",
      "10                              0      10  \n",
      "Total                       18475  191393  \n",
      "\n",
      "Crosstab of price_digit_length with location:\n",
      "location            12th Avenue  204 Chak Road  7th Avenue  9th Avenue  \\\n",
      "price_digit_length                                                       \n",
      "1                             0              0           0           0   \n",
      "2                             0              0           0           0   \n",
      "4                             0              0           1           0   \n",
      "5                             3              2          22          16   \n",
      "6                             0              0          18           5   \n",
      "7                             0              8           3           1   \n",
      "8                             1              2           1           4   \n",
      "9                             0              0           3           1   \n",
      "10                            0              0           0           0   \n",
      "Total                         4             12          48          27   \n",
      "\n",
      "location            AGHOSH  APP Employees Co-operative Housing Society  \\\n",
      "price_digit_length                                                       \n",
      "1                        0                                           0   \n",
      "2                        0                                           0   \n",
      "4                        0                                           0   \n",
      "5                        1                                           0   \n",
      "6                        0                                           0   \n",
      "7                        0                                           0   \n",
      "8                        5                                           2   \n",
      "9                        0                                           0   \n",
      "10                       0                                           0   \n",
      "Total                    6                                           2   \n",
      "\n",
      "location            AR Cottages  ASF Housing Scheme  ASF Tower  \\\n",
      "price_digit_length                                               \n",
      "1                             0                   0          0   \n",
      "2                             0                   0          0   \n",
      "4                             0                   0          0   \n",
      "5                             1                   0          0   \n",
      "6                             0                   0          0   \n",
      "7                             0                   4         13   \n",
      "8                             2                   0          0   \n",
      "9                             0                   0          0   \n",
      "10                            0                   0          0   \n",
      "Total                         3                   4         13   \n",
      "\n",
      "location            AWT Army Welfare Trust  ...  Zaraj Housing Scheme  \\\n",
      "price_digit_length                          ...                         \n",
      "1                                        0  ...                     0   \n",
      "2                                        0  ...                     0   \n",
      "4                                        0  ...                     0   \n",
      "5                                        7  ...                    20   \n",
      "6                                        3  ...                     0   \n",
      "7                                        5  ...                    11   \n",
      "8                                       12  ...                    42   \n",
      "9                                        0  ...                     0   \n",
      "10                                       0  ...                     0   \n",
      "Total                                   27  ...                    73   \n",
      "\n",
      "location            Zeeshan Colony  Zero Point  Zia Colony  Zone 5  \\\n",
      "price_digit_length                                                   \n",
      "1                                0           0           0       0   \n",
      "2                                0           0           0       0   \n",
      "4                                0           0           0       0   \n",
      "5                                0           6           5       0   \n",
      "6                                0           0           2       0   \n",
      "7                                2           0           0       0   \n",
      "8                                1           4           6       2   \n",
      "9                                0           0           0       0   \n",
      "10                               0           0           0       0   \n",
      "Total                            3          10          13       2   \n",
      "\n",
      "location            Zubaida Park  Zubair Colony  Zulfiqar Colony  \\\n",
      "price_digit_length                                                 \n",
      "1                              0              0                0   \n",
      "2                              0              0                0   \n",
      "4                              0              0                0   \n",
      "5                              3              0                0   \n",
      "6                              0              0                0   \n",
      "7                              5              1                3   \n",
      "8                              9              0                0   \n",
      "9                              0              0                0   \n",
      "10                             0              0                0   \n",
      "Total                         17              1                3   \n",
      "\n",
      "location            circular road   Total  \n",
      "price_digit_length                         \n",
      "1                               0      20  \n",
      "2                               0       4  \n",
      "4                               0     381  \n",
      "5                               0   49914  \n",
      "6                               0   14046  \n",
      "7                               2   45779  \n",
      "8                               1   76544  \n",
      "9                               0    4695  \n",
      "10                              0      10  \n",
      "Total                           3  191393  \n",
      "\n",
      "[10 rows x 1537 columns]\n",
      "\n",
      "Crosstab of price_digit_length with city:\n",
      "city                Faisalabad  Islamabad  Karachi  Lahore  Rawalpindi   Total\n",
      "price_digit_length                                                            \n",
      "1                            0          3        8       3           6      20\n",
      "2                            0          1        0       3           0       4\n",
      "4                           81         66       38     110          86     381\n",
      "5                         3588      16305     9673   10654        9694   49914\n",
      "6                          213       6447     4183    2787         416   14046\n",
      "7                         2694       5739    19201   12448        5697   45779\n",
      "8                         2472      10653    24859   31599        6961   76544\n",
      "9                           32        981     2519    1125          38    4695\n",
      "10                           0          0        3       7           0      10\n",
      "Total                     9080      40195    60484   58736       22898  191393\n",
      "\n",
      "Crosstab of price_digit_length with province_name:\n",
      "province_name       Islamabad Capital  Punjab  Sindh   Total\n",
      "price_digit_length                                          \n",
      "1                                   3       9      8      20\n",
      "2                                   1       3      0       4\n",
      "4                                  66     277     38     381\n",
      "5                               16305   23936   9673   49914\n",
      "6                                6447    3416   4183   14046\n",
      "7                                5739   20839  19201   45779\n",
      "8                               10653   41032  24859   76544\n",
      "9                                 981    1195   2519    4695\n",
      "10                                  0       7      3      10\n",
      "Total                           40195   90714  60484  191393\n",
      "\n",
      "Crosstab of price_digit_length with area:\n"
     ]
    },
    {
     "name": "stdout",
     "output_type": "stream",
     "text": [
      "area                0 Marla  0.1 Marla  0.2 Marla  0.3 Marla  0.4 Marla  \\\n",
      "price_digit_length                                                        \n",
      "1                         0          0          1          0          0   \n",
      "2                         0          0          0          0          0   \n",
      "4                         0          1          1          0          5   \n",
      "5                         5          2          1          1         24   \n",
      "6                         0          0          0          0          0   \n",
      "7                         6          0          1          0          2   \n",
      "8                         5          3          0          0          1   \n",
      "9                         0          0          1          0          0   \n",
      "10                        0          0          0          0          0   \n",
      "Total                    16          6          5          1         32   \n",
      "\n",
      "area                0.5 Marla  0.6 Marla  0.7 Marla  0.8 Marla  0.9 Marla  \\\n",
      "price_digit_length                                                          \n",
      "1                           0          0          0          0          0   \n",
      "2                           0          0          0          0          0   \n",
      "4                           9         12          4          2          6   \n",
      "5                          27         21         14         33         56   \n",
      "6                           0          0          0          0          0   \n",
      "7                           1          0          4          5          8   \n",
      "8                           1          1          0          0          1   \n",
      "9                           0          0          0          0          0   \n",
      "10                          0          0          0          0          0   \n",
      "Total                      38         34         22         40         71   \n",
      "\n",
      "area                ...  9.5 Kanal  9.5 Marla  9.6 Kanal  9.6 Marla  \\\n",
      "price_digit_length  ...                                               \n",
      "1                   ...          0          0          0          1   \n",
      "2                   ...          0          0          0          0   \n",
      "4                   ...          0          0          0          2   \n",
      "5                   ...          0          3          0        514   \n",
      "6                   ...          0          0          0         28   \n",
      "7                   ...          0          4          3         31   \n",
      "8                   ...          0         35          5       1687   \n",
      "9                   ...          2          0          1          4   \n",
      "10                  ...          0          0          0          0   \n",
      "Total               ...          2         42          9       2267   \n",
      "\n",
      "area                9.7 Kanal  9.7 Marla  9.8 Marla  9.9 Marla  90 Kanal  \\\n",
      "price_digit_length                                                         \n",
      "1                           0          0          0          0         0   \n",
      "2                           0          0          0          0         0   \n",
      "4                           0          0          0          0         0   \n",
      "5                           1          0         94          2         2   \n",
      "6                           0          1         56          1         0   \n",
      "7                           0          5         25          1         0   \n",
      "8                           3         32        248          9         0   \n",
      "9                           0          0          1          0         2   \n",
      "10                          0          0          0          0         0   \n",
      "Total                       4         38        424         13         4   \n",
      "\n",
      "area                 Total  \n",
      "price_digit_length          \n",
      "1                       20  \n",
      "2                        4  \n",
      "4                      381  \n",
      "5                    49914  \n",
      "6                    14046  \n",
      "7                    45779  \n",
      "8                    76544  \n",
      "9                     4695  \n",
      "10                      10  \n",
      "Total               191393  \n",
      "\n",
      "[10 rows x 353 columns]\n",
      "\n",
      "Crosstab of price_digit_length with purpose:\n",
      "purpose             For Rent  For Sale   Total\n",
      "price_digit_length                            \n",
      "1                          1        19      20\n",
      "2                          3         1       4\n",
      "4                        381         0     381\n",
      "5                      49856        58   49914\n",
      "6                      13795       251   14046\n",
      "7                        337     45442   45779\n",
      "8                          2     76542   76544\n",
      "9                          0      4695    4695\n",
      "10                         0        10      10\n",
      "Total                  64375    127018  191393\n"
     ]
    }
   ],
   "source": [
    "# Get the list of object columns in the dataframe\n",
    "object_columns = df.select_dtypes(include=['object']).columns\n",
    "\n",
    "# Create a crosstab for each object column with 'price_digit_length'\n",
    "for column in object_columns:\n",
    "    print(f\"\\nCrosstab of price_digit_length with {column}:\")\n",
    "    crosstab_result = pd.crosstab(df['price_digit_length'], df[column], margins=True, margins_name=\"Total\")\n",
    "    print(crosstab_result)"
   ]
  },
  {
   "cell_type": "markdown",
   "id": "019da7cf",
   "metadata": {},
   "source": []
  },
  {
   "cell_type": "markdown",
   "id": "67ec1f82",
   "metadata": {},
   "source": [
    "## Missing Values Analysis"
   ]
  },
  {
   "cell_type": "code",
   "execution_count": null,
   "id": "1f1d9ccf",
   "metadata": {},
   "outputs": [
    {
     "data": {
      "text/plain": [
       "<Axes: >"
      ]
     },
     "execution_count": 8,
     "metadata": {},
     "output_type": "execute_result"
    },
    {
     "data": {
      "image/png": "[encoded data removed]",
      "text/plain": [
       "<Figure size 2500x1000 with 2 Axes>"
      ]
     },
     "metadata": {},
     "output_type": "display_data"
    }
   ],
   "source": [
    "# Importing the libraries \n",
    "import pandas as pd \n",
    "import missingno as msno \n",
    "# Visualize missing values as a matrix \n",
    "msno.matrix(df) "
   ]
  },
  {
   "cell_type": "code",
   "execution_count": null,
   "id": "ab530811",
   "metadata": {},
   "outputs": [],
   "source": [
    "# Check for missing values in the entire DataFrame\n",
    "missing_values = df.isnull().sum()\n",
    "\n",
    "# Print columns with missing values\n",
    "print(missing_values[missing_values > 0])"
   ]
  },
  {
   "cell_type": "code",
   "execution_count": null,
   "id": "31efaabe",
   "metadata": {},
   "outputs": [],
   "source": [
    "# Calculate percentage of missing values in each column\n",
    "missing_percentage = (df.isnull().sum() / len(df)) * 100\n",
    "\n",
    "# Display columns with missing values and their percentages\n",
    "print(missing_percentage[missing_percentage > 0])"
   ]
  },
  {
   "cell_type": "code",
   "execution_count": null,
   "id": "58755c2a",
   "metadata": {},
   "outputs": [],
   "source": [
    "import matplotlib.pyplot as plt\n",
    "\n",
    "# Count occurrences of each category in the 'property_type' column\n",
    "property_counts = df['property_type'].value_counts()\n",
    "\n",
    "# Calculate percentages\n",
    "property_percentages = (property_counts / property_counts.sum()) * 100\n",
    "\n",
    "# Create a bar chart\n",
    "plt.figure(figsize=(10, 6))\n",
    "bars = plt.bar(property_counts.index, property_counts, color='skyblue')\n",
    "\n",
    "# Add labels for each bar (both counts and percentages)\n",
    "for bar, count, percentage in zip(bars, property_counts, property_percentages):\n",
    "    plt.text(\n",
    "        bar.get_x() + bar.get_width() / 2,  # Center the text horizontally on the bar\n",
    "        bar.get_height(),  # Position the text just above the bar\n",
    "        f\"{count} ({percentage:.1f}%)\",  # Label format: count (percentage)\n",
    "        ha='center', va='bottom', fontsize=10\n",
    "    )\n",
    "\n",
    "# Add labels and title\n",
    "plt.xlabel('Property Type', fontsize=12)\n",
    "plt.ylabel('Count', fontsize=12)\n",
    "plt.title('Property Type Distribution', fontsize=14)\n",
    "plt.xticks(rotation=45, fontsize=10)  # Rotate x-axis labels for better readability\n",
    "plt.grid(axis='y', linestyle='--', alpha=0.7)  # Optional: Add gridlines for better visualization\n",
    "\n",
    "# Show the plot\n",
    "plt.tight_layout()\n",
    "plt.show()\n"
   ]
  },
  {
   "cell_type": "markdown",
   "id": "d56b71a0",
   "metadata": {},
   "source": [
    "Filter Rows only for House and Flat"
   ]
  },
  {
   "cell_type": "code",
   "execution_count": null,
   "id": "573b2ad8",
   "metadata": {},
   "outputs": [],
   "source": [
    "# Filter the DataFrame to keep only rows containing 'House' or 'Flat' in the 'property_type' column\n",
    "df = df[df['property_type'].isin(['House', 'Flat'])]"
   ]
  },
  {
   "cell_type": "code",
   "execution_count": null,
   "id": "a9464740",
   "metadata": {},
   "outputs": [],
   "source": [
    "import matplotlib.pyplot as plt\n",
    "\n",
    "# Count occurrences of each category in the 'property_type' column\n",
    "property_counts = df['property_type'].value_counts()\n",
    "\n",
    "# Calculate percentages\n",
    "property_percentages = (property_counts / property_counts.sum()) * 100\n",
    "\n",
    "# Create a bar chart\n",
    "plt.figure(figsize=(10, 6))\n",
    "bars = plt.bar(property_counts.index, property_counts, color='skyblue')\n",
    "\n",
    "# Add labels for each bar (both counts and percentages)\n",
    "for bar, count, percentage in zip(bars, property_counts, property_percentages):\n",
    "    plt.text(\n",
    "        bar.get_x() + bar.get_width() / 2,  # Center the text horizontally on the bar\n",
    "        bar.get_height(),  # Position the text just above the bar\n",
    "        f\"{count} ({percentage:.1f}%)\",  # Label format: count (percentage)\n",
    "        ha='center', va='bottom', fontsize=10\n",
    "    )\n",
    "\n",
    "# Add labels and title\n",
    "plt.xlabel('Property Type', fontsize=12)\n",
    "plt.ylabel('Count', fontsize=12)\n",
    "plt.title('Property Type Distribution', fontsize=14)\n",
    "plt.xticks(rotation=45, fontsize=10)  # Rotate x-axis labels for better readability\n",
    "plt.grid(axis='y', linestyle='--', alpha=0.7)  # Optional: Add gridlines for better visualization\n",
    "\n",
    "# Show the plot\n",
    "plt.tight_layout()\n",
    "plt.show()\n"
   ]
  },
  {
   "cell_type": "code",
   "execution_count": null,
   "id": "f0222b44",
   "metadata": {},
   "outputs": [],
   "source": [
    "import matplotlib.pyplot as plt\n",
    "\n",
    "# Count occurrences of each category in the 'province_name' column\n",
    "province_counts = df['province_name'].value_counts()\n",
    "\n",
    "# Calculate percentages\n",
    "province_percentages = (province_counts / province_counts.sum()) * 100\n",
    "\n",
    "# Create labels with counts and percentages\n",
    "labels = [\n",
    "    f\"{index} ({count}, {percentage:.1f}%)\"\n",
    "    for index, count, percentage in zip(province_counts.index, province_counts, province_percentages)\n",
    "]\n",
    "\n",
    "# Plot the pie chart\n",
    "plt.figure(figsize=(8, 8))\n",
    "plt.pie(\n",
    "    province_counts, \n",
    "    labels=labels, \n",
    "    autopct='%1.1f%%',  # Display percentage on slices\n",
    "    startangle=140, \n",
    "    colors=plt.cm.tab20c.colors  # Use a different color palette for variety\n",
    ")\n",
    "\n",
    "# Add a title\n",
    "plt.title('Province Distribution')\n",
    "\n",
    "# Show the plot\n",
    "plt.show()"
   ]
  },
  {
   "cell_type": "code",
   "execution_count": null,
   "id": "e46292f3",
   "metadata": {},
   "outputs": [],
   "source": [
    "import matplotlib.pyplot as plt\n",
    "import pandas as pd\n",
    "\n",
    "# Count occurrences of each category in the 'purpose' column\n",
    "purpose_counts = df['purpose'].value_counts()\n",
    "\n",
    "# Calculate percentages\n",
    "purpose_percentages = (purpose_counts / purpose_counts.sum()) * 100\n",
    "\n",
    "# Create labels with counts and percentages\n",
    "labels = [f\"{index} ({count}, {percentage:.1f}%)\" for index, count, percentage in zip(purpose_counts.index, purpose_counts, purpose_percentages)]\n",
    "\n",
    "# Plot the pie chart\n",
    "plt.figure(figsize=(8, 8))\n",
    "plt.pie(\n",
    "    purpose_counts, \n",
    "    labels=labels, \n",
    "    autopct='%1.1f%%',  # Display percentage on slices\n",
    "    startangle=140, \n",
    "    colors=plt.cm.Paired.colors\n",
    ")\n",
    "\n",
    "# Add a title\n",
    "plt.title('Purpose Distribution')\n",
    "\n",
    "# Show the plot\n",
    "plt.show()"
   ]
  },
  {
   "cell_type": "code",
   "execution_count": null,
   "id": "794d1f01",
   "metadata": {},
   "outputs": [],
   "source": [
    "import matplotlib.pyplot as plt\n",
    "\n",
    "# Count occurrences of each category in the 'city' column\n",
    "city_counts = df['city'].value_counts()\n",
    "\n",
    "# Calculate percentages\n",
    "city_percentages = (city_counts / city_counts.sum()) * 100\n",
    "\n",
    "# Create labels with counts and percentages\n",
    "labels = [\n",
    "    f\"{index} ({count}, {percentage:.1f}%)\"\n",
    "    for index, count, percentage in zip(city_counts.index, city_counts, city_percentages)\n",
    "]\n",
    "\n",
    "# Plot the pie chart\n",
    "plt.figure(figsize=(8, 8))\n",
    "plt.pie(\n",
    "    city_counts, \n",
    "    labels=labels, \n",
    "    autopct='%1.1f%%',  # Display percentage on slices\n",
    "    startangle=140, \n",
    "    colors=plt.cm.Set3.colors  # Use Set3 color palette for variation\n",
    ")\n",
    "\n",
    "# Add a title\n",
    "plt.title('City Distribution')\n",
    "\n",
    "# Show the plot\n",
    "plt.show()"
   ]
  },
  {
   "cell_type": "markdown",
   "id": "1854e72d",
   "metadata": {},
   "source": [
    "import folium\n",
    "import pandas as pd\n",
    "\n",
    "# Create a base map centered on the mean latitude and longitude\n",
    "m = folium.Map(location=[df['latitude'].mean(), df['longitude'].mean()], zoom_start=6)\n",
    "\n",
    "# Add markers for each location\n",
    "for _, row in df.iterrows():\n",
    "    folium.Marker(\n",
    "        location=[row['latitude'], row['longitude']],\n",
    "        popup=row.get('location', ''),  # Replace 'location' with your column name if present\n",
    "        tooltip=f\"Lat: {row['latitude']}, Long: {row['longitude']}\"\n",
    "    ).add_to(m)\n",
    "\n",
    "# Save or display the map\n",
    "m.save(\"map.html\")\n",
    "m  # This will display the map in Jupyter Notebook\n"
   ]
  },
  {
   "cell_type": "markdown",
   "id": "ca66832b",
   "metadata": {},
   "source": [
    "#filtering the data for city as 'Karachi' and property type as 'House' and Purpose is 'For sale'\n",
    "df = df[(df['city'] == 'Karachi') & (df['purpose'] == 'For Sale') & (df['property_type'] == 'House')]\n",
    "df = df.drop(['property_id','Unnamed: 0','property_type','city','province_name','latitude','longitude','purpose'], axis=1)\n",
    "df.info()"
   ]
  },
  {
   "cell_type": "code",
   "execution_count": null,
   "id": "7d4e57ae-fae0-42e5-ad72-8f15c0eaeed5",
   "metadata": {},
   "outputs": [],
   "source": [
    "len(df['location'].unique())"
   ]
  },
  {
   "cell_type": "markdown",
   "id": "d0b5c99e",
   "metadata": {},
   "source": [
    "# Deleting rows where location data has insufficient records, so as to improve model prection performance\n",
    "df = df[df['location'].isin(df['location'].value_counts()[df['location'].value_counts() >= 25].index)]\n",
    "#df.to_csv('locations.csv')\n",
    "df.shape"
   ]
  },
  {
   "cell_type": "code",
   "execution_count": null,
   "id": "02cda76f-664b-4644-a85d-62251a0e4a0d",
   "metadata": {},
   "outputs": [],
   "source": [
    "len(df['location'].value_counts())"
   ]
  },
  {
   "cell_type": "code",
   "execution_count": null,
   "id": "08d7b4f8-ed0e-485a-9c37-91a6505ec033",
   "metadata": {},
   "outputs": [],
   "source": [
    "df.info()"
   ]
  },
  {
   "cell_type": "markdown",
   "id": "137be608",
   "metadata": {},
   "source": [
    "#converting location column to from categorical to numerical\n",
    "locations = df['location'].unique()\n",
    "locations_dict = {locations[i]: i  for i in range(len(locations))}\n",
    "\n",
    "df.loc[:, 'location'] = df['location'].replace(locations_dict)\n",
    "df.location.unique()\n",
    "df['location']=df['location'].astype(int)\n",
    "df.info()"
   ]
  },
  {
   "cell_type": "code",
   "execution_count": null,
   "id": "6647ab69-a815-41ee-94cb-4326354c5502",
   "metadata": {},
   "outputs": [],
   "source": [
    "#calculating the area in square feet, and convert it from string to numerical\n",
    "df = df.copy()\n",
    "df['area_num'] = df['area'].str.split(' ').str[0]\n",
    "df['area_str'] = df['area'].str.split(' ').str[1]\n",
    "df.head()"
   ]
  },
  {
   "cell_type": "code",
   "execution_count": null,
   "id": "e457d5fe",
   "metadata": {},
   "outputs": [],
   "source": [
    "import matplotlib.pyplot as plt\n",
    "\n",
    "# Count occurrences of each category in the 'area_str' column\n",
    "area_counts = df['area_str'].value_counts()\n",
    "\n",
    "# Calculate percentages\n",
    "area_percentages = (area_counts / area_counts.sum()) * 100\n",
    "\n",
    "# Create labels with counts and percentages\n",
    "labels = [\n",
    "    f\"{index} ({count}, {percentage:.1f}%)\"\n",
    "    for index, count, percentage in zip(area_counts.index, area_counts, area_percentages)\n",
    "]\n",
    "\n",
    "# Plot the pie chart\n",
    "plt.figure(figsize=(8, 8))\n",
    "plt.pie(\n",
    "    area_counts, \n",
    "    labels=labels, \n",
    "    autopct='%1.1f%%',  # Display percentage on slices\n",
    "    startangle=140, \n",
    "    colors=plt.cm.Paired.colors  # Use a different color palette for variety\n",
    ")\n",
    "\n",
    "# Add a title\n",
    "plt.title('Area String Distribution')\n",
    "\n",
    "# Show the plot\n",
    "plt.show()"
   ]
  },
  {
   "cell_type": "code",
   "execution_count": null,
   "id": "58e1eefa-1a68-4292-a426-3f486e4b38d4",
   "metadata": {},
   "outputs": [],
   "source": [
    "df.area_str.unique()"
   ]
  },
  {
   "cell_type": "code",
   "execution_count": null,
   "id": "318d769e-ec98-4f8f-b200-4373615d6cb5",
   "metadata": {},
   "outputs": [],
   "source": [
    "df['area_num'] = df['area_num'].str.replace(',', '')\n",
    "df['area_num'].unique()"
   ]
  },
  {
   "cell_type": "code",
   "execution_count": null,
   "id": "7d20a845",
   "metadata": {},
   "outputs": [],
   "source": [
    "# Convert 'area_num' from object (string) to float\n",
    "df['area_num'] = pd.to_numeric(df['area_num'], errors='coerce')\n",
    "df.head()"
   ]
  },
  {
   "cell_type": "code",
   "execution_count": null,
   "id": "b090ca00",
   "metadata": {},
   "outputs": [],
   "source": [
    "# Define a function to convert the area based on the unit\n",
    "def convert_to_marlas(row):\n",
    "    if row['area_str'] == 'Kanal':\n",
    "        return row['area_num'] * 20  # 1 Kanal = 20 Marlas\n",
    "    elif row['area_str'] == 'Marla':\n",
    "        return row['area_num']  # No conversion needed if it's already in Marlas\n",
    "    else:\n",
    "        return None  # Handle cases where the unit is neither Kanal nor Marla\n",
    "\n",
    "# Apply the function to create the new column 'Area' in Marlas\n",
    "df['Area'] = df.apply(convert_to_marlas, axis=1)\n",
    "df.head()"
   ]
  },
  {
   "cell_type": "code",
   "execution_count": null,
   "id": "c90398f7",
   "metadata": {},
   "outputs": [],
   "source": [
    "df.head()"
   ]
  },
  {
   "cell_type": "code",
   "execution_count": null,
   "id": "493c18ae",
   "metadata": {},
   "outputs": [],
   "source": [
    "# Drop the columns 'area', 'area_num', and 'area_str'\n",
    "df = df.drop(columns=['area', 'area_num', 'area_str','property_id','location_id','latitude','longitude'])\n",
    "df.head()"
   ]
  },
  {
   "cell_type": "code",
   "execution_count": null,
   "id": "735ab4dc",
   "metadata": {},
   "outputs": [],
   "source": [
    "import matplotlib.pyplot as plt\n",
    "\n",
    "# Count occurrences of each category in the 'location' column\n",
    "location_counts = df['location'].value_counts().head(10)\n",
    "\n",
    "# Plot the bar chart\n",
    "plt.figure(figsize=(10, 6))\n",
    "bars = plt.bar(location_counts.index, location_counts, color='skyblue')\n",
    "\n",
    "# Add labels for each bar (count)\n",
    "for bar, count in zip(bars, location_counts):\n",
    "    plt.text(\n",
    "        bar.get_x() + bar.get_width() / 2,  # Center the text horizontally on the bar\n",
    "        bar.get_height(),  # Position the text just above the bar\n",
    "        str(count),  # Display the count above each bar\n",
    "        ha='center', va='bottom', fontsize=10\n",
    "    )\n",
    "\n",
    "# Add labels and title\n",
    "plt.xlabel('Location', fontsize=12)\n",
    "plt.ylabel('Count', fontsize=12)\n",
    "plt.title('Top 10 Location Distribution', fontsize=14)\n",
    "plt.xticks(rotation=45, fontsize=10)  # Rotate x-axis labels for better readability\n",
    "plt.grid(axis='y', linestyle='--', alpha=0.7)  # Optional: Add gridlines for better visualization\n",
    "\n",
    "# Show the plot\n",
    "plt.tight_layout()\n",
    "plt.show()"
   ]
  },
  {
   "cell_type": "code",
   "execution_count": null,
   "id": "59c090a4",
   "metadata": {},
   "outputs": [],
   "source": [
    "# Drop the columns 'area', 'area_num', and 'area_str'\n",
    "df = df.drop(columns=[\"location\"])\n",
    "df.head()"
   ]
  },
  {
   "cell_type": "code",
   "execution_count": null,
   "id": "d93bdeda",
   "metadata": {},
   "outputs": [],
   "source": [
    "df.head()"
   ]
  },
  {
   "cell_type": "code",
   "execution_count": null,
   "id": "fb81aa0b",
   "metadata": {},
   "outputs": [],
   "source": [
    "df.shape "
   ]
  },
  {
   "cell_type": "code",
   "execution_count": null,
   "id": "c3d86ce8",
   "metadata": {
    "scrolled": false
   },
   "outputs": [],
   "source": [
    "import seaborn as sns\n",
    "import matplotlib.pyplot as plt\n",
    "\n",
    "# Identify all object (categorical) columns in the DataFrame\n",
    "categorical_columns = df.select_dtypes(include=['object']).columns\n",
    "\n",
    "# Loop through each categorical column\n",
    "for cat_col in categorical_columns:\n",
    "    plt.figure(figsize=(10, 6))  # Set figure size for each plot\n",
    "    sns.boxplot(data=df, y=cat_col, x='baths', palette='Set2')  # Flip x and y for horizontal orientation\n",
    "    plt.title(f'Box Plot of Baths by {cat_col}', fontsize=14)\n",
    "    plt.xlabel('Baths', fontsize=12)\n",
    "    plt.ylabel(cat_col, fontsize=12)\n",
    "    plt.tight_layout()\n",
    "    plt.show()"
   ]
  },
  {
   "cell_type": "code",
   "execution_count": null,
   "id": "d8c0909f",
   "metadata": {
    "scrolled": false
   },
   "outputs": [],
   "source": [
    "import seaborn as sns\n",
    "import matplotlib.pyplot as plt\n",
    "\n",
    "# Identify all object (categorical) columns in the DataFrame\n",
    "categorical_columns = df.select_dtypes(include=['object']).columns\n",
    "\n",
    "# Loop through each categorical column\n",
    "for cat_col in categorical_columns:\n",
    "    plt.figure(figsize=(10, 6))  # Set figure size for each plot\n",
    "    sns.boxplot(data=df, y=cat_col, x='bedrooms', palette='Set2')  # Flip x and y for horizontal orientation\n",
    "    plt.title(f'Box Plot of Bedrooms by {cat_col}', fontsize=14)\n",
    "    plt.xlabel('Bedrooms', fontsize=12)\n",
    "    plt.ylabel(cat_col, fontsize=12)\n",
    "    plt.tight_layout()\n",
    "    plt.show()"
   ]
  },
  {
   "cell_type": "code",
   "execution_count": null,
   "id": "f494f5f4",
   "metadata": {
    "scrolled": false
   },
   "outputs": [],
   "source": [
    "import seaborn as sns\n",
    "import matplotlib.pyplot as plt\n",
    "\n",
    "# Identify all object (categorical) columns in the DataFrame\n",
    "categorical_columns = df.select_dtypes(include=['object']).columns\n",
    "\n",
    "# Loop through each categorical column\n",
    "for cat_col in categorical_columns:\n",
    "    plt.figure(figsize=(10, 6))  # Set figure size for each plot\n",
    "    sns.boxplot(data=df, y=cat_col, x='Area', palette='Set2')  # Flip x and y for horizontal orientation\n",
    "    plt.title(f'Box Plot of Area by {cat_col}', fontsize=14)\n",
    "    plt.xlabel('Area', fontsize=12)\n",
    "    plt.ylabel(cat_col, fontsize=12)\n",
    "    plt.tight_layout()\n",
    "    plt.show()"
   ]
  },
  {
   "cell_type": "code",
   "execution_count": null,
   "id": "1d57d302",
   "metadata": {
    "scrolled": false
   },
   "outputs": [],
   "source": [
    "import seaborn as sns\n",
    "import matplotlib.pyplot as plt\n",
    "\n",
    "# Identify all object (categorical) columns in the DataFrame\n",
    "categorical_columns = df.select_dtypes(include=['object']).columns\n",
    "\n",
    "# Loop through each categorical column\n",
    "for cat_col in categorical_columns:\n",
    "    plt.figure(figsize=(10, 6))  # Set figure size for each plot\n",
    "    sns.boxplot(data=df, y=cat_col, x='price', palette='Set2')  # Flip x and y for horizontal orientation\n",
    "    plt.title(f'Box Plot of Price by {cat_col}', fontsize=14)\n",
    "    plt.xlabel('Price', fontsize=12)\n",
    "    plt.ylabel(cat_col, fontsize=12)\n",
    "    plt.tight_layout()\n",
    "    plt.show()"
   ]
  },
  {
   "cell_type": "markdown",
   "id": "39594872",
   "metadata": {},
   "source": [
    "### Removing Outliers values from the data"
   ]
  },
  {
   "cell_type": "code",
   "execution_count": null,
   "id": "0eb8575a",
   "metadata": {
    "scrolled": false
   },
   "outputs": [],
   "source": [
    "import seaborn as sns\n",
    "import matplotlib.pyplot as plt\n",
    "import pandas as pd\n",
    "\n",
    "# Identify all object (categorical) columns in the DataFrame\n",
    "categorical_columns = df.select_dtypes(include=['object']).columns\n",
    "\n",
    "# Function to remove outliers based on IQR\n",
    "def remove_outliers(df, group_col, value_col):\n",
    "    filtered_df = pd.DataFrame()\n",
    "    for category in df[group_col].unique():\n",
    "        group_data = df[df[group_col] == category]\n",
    "        Q1 = group_data[value_col].quantile(0.25)  # First quartile\n",
    "        Q3 = group_data[value_col].quantile(0.75)  # Third quartile\n",
    "        IQR = Q3 - Q1  # Interquartile range\n",
    "        lower_bound = Q1 - 1.5 * IQR\n",
    "        upper_bound = Q3 + 1.5 * IQR\n",
    "        group_filtered = group_data[(group_data[value_col] >= lower_bound) & (group_data[value_col] <= upper_bound)]\n",
    "        filtered_df = pd.concat([filtered_df, group_filtered], axis=0)\n",
    "    return filtered_df\n",
    "\n",
    "# Loop through each categorical column\n",
    "for cat_col in categorical_columns:\n",
    "    # Remove outliers for the 'baths' column based on the current category\n",
    "    df = remove_outliers(df, group_col=cat_col, value_col='baths')  # Overwrite df with filtered data\n",
    "    \n",
    "    # Create horizontal box plot\n",
    "    plt.figure(figsize=(10, 6))  # Set figure size for each plot\n",
    "    sns.boxplot(data=df, y=cat_col, x='baths', palette='Set2')  # Horizontal orientation\n",
    "    plt.title(f'Box Plot of Baths by {cat_col} (Without Outliers)', fontsize=14)\n",
    "    plt.xlabel('Baths', fontsize=12)\n",
    "    plt.ylabel(cat_col, fontsize=12)\n",
    "    plt.tight_layout()\n",
    "    plt.show()"
   ]
  },
  {
   "cell_type": "code",
   "execution_count": null,
   "id": "7a6a7143",
   "metadata": {
    "scrolled": false
   },
   "outputs": [],
   "source": [
    "import seaborn as sns\n",
    "import matplotlib.pyplot as plt\n",
    "import pandas as pd\n",
    "\n",
    "# Identify all object (categorical) columns in the DataFrame\n",
    "categorical_columns = df.select_dtypes(include=['object']).columns\n",
    "\n",
    "# Function to remove outliers based on IQR\n",
    "def remove_outliers(df, group_col, value_col):\n",
    "    filtered_df = pd.DataFrame()\n",
    "    for category in df[group_col].unique():\n",
    "        group_data = df[df[group_col] == category]\n",
    "        Q1 = group_data[value_col].quantile(0.25)  # First quartile\n",
    "        Q3 = group_data[value_col].quantile(0.75)  # Third quartile\n",
    "        IQR = Q3 - Q1  # Interquartile range\n",
    "        lower_bound = Q1 - 1.5 * IQR\n",
    "        upper_bound = Q3 + 1.5 * IQR\n",
    "        group_filtered = group_data[(group_data[value_col] >= lower_bound) & (group_data[value_col] <= upper_bound)]\n",
    "        filtered_df = pd.concat([filtered_df, group_filtered], axis=0)\n",
    "    return filtered_df\n",
    "\n",
    "# Loop through each categorical column\n",
    "for cat_col in categorical_columns:\n",
    "    # Remove outliers for the 'bedrooms' column based on the current category\n",
    "    df = remove_outliers(df, group_col=cat_col, value_col='bedrooms')  # Overwrite df with filtered data\n",
    "    \n",
    "    # Create horizontal box plot\n",
    "    plt.figure(figsize=(10, 6))  # Set figure size for each plot\n",
    "    sns.boxplot(data=df, y=cat_col, x='bedrooms', palette='Set2')  # Horizontal orientation\n",
    "    plt.title(f'Box Plot of Bedrooms by {cat_col} (Without Outliers)', fontsize=14)\n",
    "    plt.xlabel('Bedrooms', fontsize=12)\n",
    "    plt.ylabel(cat_col, fontsize=12)\n",
    "    plt.tight_layout()\n",
    "    plt.show()"
   ]
  },
  {
   "cell_type": "code",
   "execution_count": null,
   "id": "c4a33d3d",
   "metadata": {
    "scrolled": false
   },
   "outputs": [],
   "source": [
    "import seaborn as sns\n",
    "import matplotlib.pyplot as plt\n",
    "import pandas as pd\n",
    "\n",
    "# Identify all object (categorical) columns in the DataFrame\n",
    "categorical_columns = df.select_dtypes(include=['object']).columns\n",
    "\n",
    "# Function to remove outliers based on IQR\n",
    "def remove_outliers(df, group_col, value_col):\n",
    "    filtered_df = pd.DataFrame()\n",
    "    for category in df[group_col].unique():\n",
    "        group_data = df[df[group_col] == category]\n",
    "        Q1 = group_data[value_col].quantile(0.25)  # First quartile\n",
    "        Q3 = group_data[value_col].quantile(0.75)  # Third quartile\n",
    "        IQR = Q3 - Q1  # Interquartile range\n",
    "        lower_bound = Q1 - 1.5 * IQR\n",
    "        upper_bound = Q3 + 1.5 * IQR\n",
    "        group_filtered = group_data[(group_data[value_col] >= lower_bound) & (group_data[value_col] <= upper_bound)]\n",
    "        filtered_df = pd.concat([filtered_df, group_filtered], axis=0)\n",
    "    return filtered_df\n",
    "\n",
    "# Loop through each categorical column\n",
    "for cat_col in categorical_columns:\n",
    "    # Remove outliers for the 'Area' column based on the current category\n",
    "    df = remove_outliers(df, group_col=cat_col, value_col='Area')  # Overwrite df with filtered data\n",
    "    \n",
    "    # Create horizontal box plot\n",
    "    plt.figure(figsize=(10, 6))  # Set figure size for each plot\n",
    "    sns.boxplot(data=df, y=cat_col, x='Area', palette='Set2')  # Horizontal orientation\n",
    "    plt.title(f'Box Plot of Area by {cat_col} (Without Outliers)', fontsize=14)\n",
    "    plt.xlabel('Area', fontsize=12)\n",
    "    plt.ylabel(cat_col, fontsize=12)\n",
    "    plt.tight_layout()\n",
    "    plt.show()"
   ]
  },
  {
   "cell_type": "code",
   "execution_count": null,
   "id": "31b4faa8",
   "metadata": {
    "scrolled": false
   },
   "outputs": [],
   "source": [
    "import seaborn as sns\n",
    "import matplotlib.pyplot as plt\n",
    "import pandas as pd\n",
    "\n",
    "# Identify all object (categorical) columns in the DataFrame\n",
    "categorical_columns = df.select_dtypes(include=['object']).columns\n",
    "\n",
    "# Function to remove outliers based on IQR\n",
    "def remove_outliers(df, group_col, value_col):\n",
    "    filtered_df = pd.DataFrame()\n",
    "    for category in df[group_col].unique():\n",
    "        group_data = df[df[group_col] == category]\n",
    "        Q1 = group_data[value_col].quantile(0.25)  # First quartile\n",
    "        Q3 = group_data[value_col].quantile(0.75)  # Third quartile\n",
    "        IQR = Q3 - Q1  # Interquartile range\n",
    "        lower_bound = Q1 - 1.5 * IQR\n",
    "        upper_bound = Q3 + 1.5 * IQR\n",
    "        group_filtered = group_data[(group_data[value_col] >= lower_bound) & (group_data[value_col] <= upper_bound)]\n",
    "        filtered_df = pd.concat([filtered_df, group_filtered], axis=0)\n",
    "    return filtered_df\n",
    "\n",
    "# Loop through each categorical column\n",
    "for cat_col in categorical_columns:\n",
    "    # Remove outliers for the 'Price' column based on the current category\n",
    "    df = remove_outliers(df, group_col=cat_col, value_col='price')  # Overwrite df with filtered data\n",
    "    \n",
    "    # Create horizontal box plot\n",
    "    plt.figure(figsize=(10, 6))  # Set figure size for each plot\n",
    "    sns.boxplot(data=df, y=cat_col, x='price', palette='Set2')  # Horizontal orientation\n",
    "    plt.title(f'Box Plot of Price by {cat_col} (Without Outliers)', fontsize=14)\n",
    "    plt.xlabel('Price', fontsize=12)\n",
    "    plt.ylabel(cat_col, fontsize=12)\n",
    "    plt.tight_layout()\n",
    "    plt.show()"
   ]
  },
  {
   "cell_type": "code",
   "execution_count": null,
   "id": "48dfbe29",
   "metadata": {},
   "outputs": [],
   "source": [
    "import seaborn as sns\n",
    "import matplotlib.pyplot as plt\n",
    "\n",
    "# Plot the histogram of 'price' grouped by 'property_type'\n",
    "plt.figure(figsize=(10, 6))\n",
    "sns.histplot(data=df, x='price', hue='property_type', multiple='stack', kde=True, palette='Set2')\n",
    "\n",
    "# Add labels and title\n",
    "plt.xlabel('Price', fontsize=12)\n",
    "plt.ylabel('Frequency', fontsize=12)\n",
    "plt.title('Price Distribution by Property Type', fontsize=14)\n",
    "\n",
    "# Show the plot\n",
    "plt.show()"
   ]
  },
  {
   "cell_type": "code",
   "execution_count": null,
   "id": "7e632a85",
   "metadata": {},
   "outputs": [],
   "source": [
    "# Calculate mean, median, and mode of the 'price' column\n",
    "mean_price = df['price'].mean()\n",
    "median_price = df['price'].median()\n",
    "mode_price = df['price'].mode()[0]  # mode() returns a Series, so we take the first value\n",
    "\n",
    "# Display the results\n",
    "print(f\"Mean Price: {mean_price}\")\n",
    "print(f\"Median Price: {median_price}\")\n",
    "print(f\"Mode Price: {mode_price}\")"
   ]
  },
  {
   "cell_type": "markdown",
   "id": "ef1fc518",
   "metadata": {},
   "source": [
    "Data Consist of two differnet composition of statistics for House and Flat. So we would run seperate regression for house and flat"
   ]
  },
  {
   "cell_type": "code",
   "execution_count": null,
   "id": "9cfa13a2",
   "metadata": {},
   "outputs": [],
   "source": [
    "# Group by 'property_type' and compute mean, min, and max of 'price'\n",
    "df_group = df.groupby('property_type')['price'].agg(['mean', 'min', 'max']).reset_index()\n",
    "\n",
    "# Rename columns for clarity (optional)\n",
    "df_group.rename(columns={'mean': 'Mean Price', 'min': 'Min Price', 'max': 'Max Price'}, inplace=True)\n",
    "\n",
    "# Display the result\n",
    "print(df_group)"
   ]
  },
  {
   "cell_type": "code",
   "execution_count": null,
   "id": "ba24ce15",
   "metadata": {},
   "outputs": [],
   "source": [
    "df1=df.copy()"
   ]
  },
  {
   "cell_type": "code",
   "execution_count": null,
   "id": "15b72ac4",
   "metadata": {},
   "outputs": [],
   "source": [
    "# For 'House' and 'For Sale' retain rows with 6-digit price\n",
    "filtered_df = df[(df['price_digit_length'] >= 7)]\n",
    "\n",
    "# Reset the index after filtering\n",
    "filtered_df = filtered_df.reset_index(drop=True)\n",
    "df=filtered_df.copy()"
   ]
  },
  {
   "cell_type": "code",
   "execution_count": null,
   "id": "2572cafa",
   "metadata": {},
   "outputs": [],
   "source": [
    "# Group by 'property_type' and compute mean, min, and max of 'price'\n",
    "df_group = df.groupby('property_type')['price'].agg(['mean', 'min', 'max']).reset_index()\n",
    "\n",
    "# Rename columns for clarity (optional)\n",
    "df_group.rename(columns={'mean': 'Mean Price', 'min': 'Min Price', 'max': 'Max Price'}, inplace=True)\n",
    "\n",
    "# Display the result\n",
    "print(df_group)"
   ]
  },
  {
   "cell_type": "code",
   "execution_count": null,
   "id": "67597b3c",
   "metadata": {},
   "outputs": [],
   "source": [
    "import seaborn as sns\n",
    "import matplotlib.pyplot as plt\n",
    "\n",
    "# Plot the histogram of 'price' grouped by 'property_type'\n",
    "plt.figure(figsize=(10, 6))\n",
    "sns.histplot(data=df, x='price', hue='property_type', multiple='stack', kde=True, palette='Set2')\n",
    "\n",
    "# Add labels and title\n",
    "plt.xlabel('Price', fontsize=12)\n",
    "plt.ylabel('Frequency', fontsize=12)\n",
    "plt.title('Price Distribution by Property Type', fontsize=14)\n",
    "\n",
    "# Show the plot\n",
    "plt.show()"
   ]
  },
  {
   "cell_type": "code",
   "execution_count": null,
   "id": "948bba11",
   "metadata": {},
   "outputs": [],
   "source": [
    "# Filter rows where 'purpose' is 'For Sale'\n",
    "df = df[df['purpose'] == 'For Sale']\n",
    "# Drop the 'purpose' column\n",
    "df = df.drop(columns=['purpose'])\n",
    "df.head()"
   ]
  },
  {
   "cell_type": "code",
   "execution_count": null,
   "id": "14867d59",
   "metadata": {},
   "outputs": [],
   "source": [
    "#df=filtered_df.copy()\n",
    "#df.drop(\"price_category\", axis=1, inplace=True)\n",
    "df.drop('price_digit_length', axis=1, inplace=True)\n",
    "df.head()"
   ]
  },
  {
   "cell_type": "code",
   "execution_count": null,
   "id": "0ef7917f",
   "metadata": {},
   "outputs": [],
   "source": [
    "import seaborn as sns\n",
    "import matplotlib.pyplot as plt\n",
    "\n",
    "# Plot the histogram of 'price' grouped by 'property_type'\n",
    "plt.figure(figsize=(10, 6))\n",
    "sns.histplot(data=df, x='price', hue='property_type', multiple='stack', kde=True, palette='Set2')\n",
    "\n",
    "# Add labels and title\n",
    "plt.xlabel('Price', fontsize=12)\n",
    "plt.ylabel('Frequency', fontsize=12)\n",
    "plt.title('Price Distribution by Property Type', fontsize=14)\n",
    "\n",
    "# Show the plot\n",
    "plt.show()"
   ]
  },
  {
   "cell_type": "markdown",
   "id": "ab0ad027",
   "metadata": {},
   "source": [
    "# Create dummy variables"
   ]
  },
  {
   "cell_type": "code",
   "execution_count": null,
   "id": "e71c1a9b",
   "metadata": {},
   "outputs": [],
   "source": [
    "import pandas as pd\n",
    "\n",
    "# Identify all object (categorical) columns in the DataFrame\n",
    "categorical_columns = df.select_dtypes(include=['object']).columns\n",
    "\n",
    "# Convert categorical columns to dummy variables (numeric 0 and 1)\n",
    "df = pd.get_dummies(df, columns=categorical_columns, drop_first=True)\n",
    "\n",
    "# Identify all object columns\n",
    "object_columns = df.select_dtypes(include=['bool']).columns\n",
    "\n",
    "# Replace True/False with 1/0 in object columns and convert them to integers\n",
    "df[object_columns] = df[object_columns].replace({True: 1, False: 0}).astype(int)\n"
   ]
  },
  {
   "cell_type": "code",
   "execution_count": null,
   "id": "5f1be2c6",
   "metadata": {},
   "outputs": [],
   "source": [
    "df.head()"
   ]
  },
  {
   "cell_type": "code",
   "execution_count": null,
   "id": "de8c9890-3f99-4ea4-9390-581225eadc5d",
   "metadata": {},
   "outputs": [],
   "source": [
    "df.info()"
   ]
  },
  {
   "cell_type": "markdown",
   "id": "66f2be24",
   "metadata": {},
   "source": [
    "# Testing Basic Assumptions of Linear Regression Model"
   ]
  },
  {
   "cell_type": "markdown",
   "id": "6bb3753a",
   "metadata": {},
   "source": [
    "### Testing Normality of Dependent Column"
   ]
  },
  {
   "cell_type": "code",
   "execution_count": null,
   "id": "5d413c96",
   "metadata": {},
   "outputs": [],
   "source": [
    "import pandas as pd\n",
    "import numpy as np\n",
    "import matplotlib.pyplot as plt\n",
    "import seaborn as sns\n",
    "from scipy import stats\n",
    "from statsmodels.graphics.gofplots import qqplot\n",
    "\n",
    "# Define dependent variable (price)\n",
    "y = df['price']\n",
    "\n",
    "# 1. Histogram for Normality Check\n",
    "plt.figure(figsize=(10, 6))\n",
    "sns.histplot(y, kde=True, bins=20)\n",
    "plt.title('Histogram of Price')\n",
    "plt.xlabel('Price')\n",
    "plt.ylabel('Frequency')\n",
    "plt.show()\n",
    "\n",
    "# 2. Q-Q Plot for Normality Check\n",
    "plt.figure(figsize=(10, 6))\n",
    "qqplot(y, line='s')\n",
    "plt.title('Q-Q Plot of Price')\n",
    "plt.show()\n",
    "\n",
    "# 3. Shapiro-Wilk Test for Normality\n",
    "shapiro_test = stats.shapiro(y)\n",
    "print(\"Shapiro-Wilk test for normality:\")\n",
    "print(\"Statistic:\", shapiro_test[0], \"p-value:\", shapiro_test[1])\n",
    "\n",
    "# If p-value > 0.05, the data is normally distributed.\n",
    "\n",
    "# 4. Anderson-Darling Test for Normality\n",
    "anderson_test = stats.anderson(y, dist='norm')\n",
    "print(\"\\nAnderson-Darling Test for normality:\")\n",
    "print(\"Statistic:\", anderson_test.statistic)\n",
    "print(\"Critical values:\", anderson_test.critical_values)\n",
    "print(\"Significance level:\", anderson_test.significance_level)"
   ]
  },
  {
   "cell_type": "markdown",
   "id": "c37abbec",
   "metadata": {},
   "source": [
    "Dependent columns is not normal that main issue need to be resolved such as log transformation or any other method"
   ]
  },
  {
   "cell_type": "code",
   "execution_count": null,
   "id": "bdf32a49",
   "metadata": {},
   "outputs": [],
   "source": [
    "import numpy as np\n",
    "import matplotlib.pyplot as plt\n",
    "import seaborn as sns\n",
    "\n",
    "# Log transformation of price column\n",
    "df['log_price'] = np.log(df['price'])\n",
    "\n",
    "# Check the distribution of the log-transformed price\n",
    "plt.figure(figsize=(10, 6))\n",
    "sns.histplot(df['log_price'], kde=True, bins=20)\n",
    "plt.title('Log Transformed Price Distribution')\n",
    "plt.xlabel('Log of Price')\n",
    "plt.ylabel('Frequency')\n",
    "plt.show()"
   ]
  },
  {
   "cell_type": "code",
   "execution_count": null,
   "id": "bae7fb6a",
   "metadata": {},
   "outputs": [],
   "source": [
    "import pandas as pd\n",
    "import numpy as np\n",
    "import matplotlib.pyplot as plt\n",
    "import seaborn as sns\n",
    "from scipy import stats\n",
    "from statsmodels.graphics.gofplots import qqplot\n",
    "\n",
    "# Define dependent variable (log_price)\n",
    "y = df['log_price']\n",
    "\n",
    "# 1. Histogram for Normality Check\n",
    "plt.figure(figsize=(10, 6))\n",
    "sns.histplot(y, kde=True, bins=20)\n",
    "plt.title('Histogram of Log_price')\n",
    "plt.xlabel('Log_price')\n",
    "plt.ylabel('Frequency')\n",
    "plt.show()\n",
    "\n",
    "# 2. Q-Q Plot for Normality Check\n",
    "plt.figure(figsize=(10, 6))\n",
    "qqplot(y, line='s')\n",
    "plt.title('Q-Q Plot of Log_price')\n",
    "plt.show()\n",
    "\n",
    "# 3. Shapiro-Wilk Test for Normality\n",
    "shapiro_test = stats.shapiro(y)\n",
    "print(\"Shapiro-Wilk test for normality:\")\n",
    "print(\"Statistic:\", shapiro_test[0], \"p-value:\", shapiro_test[1])\n",
    "\n",
    "# If p-value > 0.05, the data is normally distributed.\n",
    "\n",
    "# 4. Anderson-Darling Test for Normality\n",
    "anderson_test = stats.anderson(y, dist='norm')\n",
    "print(\"\\nAnderson-Darling Test for normality:\")\n",
    "print(\"Statistic:\", anderson_test.statistic)\n",
    "print(\"Critical values:\", anderson_test.critical_values)\n",
    "print(\"Significance level:\", anderson_test.significance_level)"
   ]
  },
  {
   "cell_type": "code",
   "execution_count": null,
   "id": "6e9ca771",
   "metadata": {},
   "outputs": [],
   "source": [
    "# Get the maximum value of the 'price' column\n",
    "max_price = df['price'].max()\n",
    "\n",
    "# Get the minimum value of the 'price' column\n",
    "min_price = df['price'].min()\n",
    "\n",
    "# Print the results\n",
    "print(f\"Maximum Price: {max_price}\")\n",
    "print(f\"Minimum Price: {min_price}\")"
   ]
  },
  {
   "cell_type": "code",
   "execution_count": null,
   "id": "69ecbc1b",
   "metadata": {},
   "outputs": [],
   "source": [
    "df_f=df.copy()"
   ]
  },
  {
   "cell_type": "code",
   "execution_count": null,
   "id": "4a6b3312",
   "metadata": {},
   "outputs": [],
   "source": [
    "df = df.drop('price', axis=1)\n",
    "df.head()"
   ]
  },
  {
   "cell_type": "markdown",
   "id": "f7b7d85d",
   "metadata": {},
   "source": [
    "# Predictive Modeling"
   ]
  },
  {
   "cell_type": "code",
   "execution_count": null,
   "id": "35db191d",
   "metadata": {},
   "outputs": [],
   "source": [
    "import numpy as np\n",
    "import pandas as pd\n",
    "import statsmodels.api as sm\n",
    "import seaborn as sns\n",
    "import matplotlib.pyplot as plt\n",
    "from statsmodels.stats.outliers_influence import variance_inflation_factor\n",
    "from statsmodels.graphics.gofplots import qqplot\n",
    "from statsmodels.stats.diagnostic import het_breuschpagan\n",
    "from scipy import stats"
   ]
  },
  {
   "cell_type": "code",
   "execution_count": null,
   "id": "7514433b",
   "metadata": {},
   "outputs": [],
   "source": [
    "# Define dependent variable (price) and independent variables (all other columns)\n",
    "y = df['log_price']\n",
    "X = df.drop('log_price', axis=1)\n",
    "\n",
    "# Add a constant (intercept) to the independent variables\n",
    "X = sm.add_constant(X)\n",
    "\n",
    "# Fit the OLS regression model\n",
    "model = sm.OLS(y, X)\n",
    "results = model.fit()\n",
    "\n",
    "# Print the summary of the regression model\n",
    "print(results.summary())"
   ]
  },
  {
   "cell_type": "markdown",
   "id": "d48a4a45",
   "metadata": {},
   "source": [
    "## Model Dignostic Checks"
   ]
  },
  {
   "cell_type": "code",
   "execution_count": null,
   "id": "f910423a",
   "metadata": {},
   "outputs": [],
   "source": [
    "# 1. Residuals Analysis: Plot residuals vs. fitted values (check for randomness)\n",
    "sns.residplot(x=results.fittedvalues, y=results.resid, lowess=True, line_kws={'color': 'red'})\n",
    "plt.title(\"Residuals vs Fitted\")\n",
    "plt.xlabel(\"Fitted Values\")\n",
    "plt.ylabel(\"Residuals\")\n",
    "plt.show()"
   ]
  },
  {
   "cell_type": "code",
   "execution_count": null,
   "id": "0a81bf4a",
   "metadata": {},
   "outputs": [],
   "source": [
    "# 2. Check for Heteroscedasticity using Breusch-Pagan Test\n",
    "bp_test = het_breuschpagan(results.resid, results.model.exog)\n",
    "print(\"Breusch-Pagan test results:\")\n",
    "print(\"LM Statistic:\", bp_test[0])\n",
    "print(\"p-value:\", bp_test[1])"
   ]
  },
  {
   "cell_type": "code",
   "execution_count": null,
   "id": "7128e551",
   "metadata": {},
   "outputs": [],
   "source": [
    "# 3. Check for Multicollinearity using Variance Inflation Factor (VIF)\n",
    "vif_data = pd.DataFrame()\n",
    "vif_data[\"Variable\"] = X.columns\n",
    "vif_data[\"VIF\"] = [variance_inflation_factor(X.values, i) for i in range(X.shape[1])]\n",
    "print(\"\\nVariance Inflation Factors (VIF):\")\n",
    "print(vif_data)"
   ]
  },
  {
   "cell_type": "code",
   "execution_count": null,
   "id": "f8c6cff3",
   "metadata": {},
   "outputs": [],
   "source": [
    "# 4. Normality of residuals using Q-Q plot\n",
    "qqplot(results.resid, line='s')\n",
    "plt.title(\"Q-Q plot of residuals\")\n",
    "plt.show()"
   ]
  },
  {
   "cell_type": "code",
   "execution_count": null,
   "id": "6b7d8703",
   "metadata": {},
   "outputs": [],
   "source": [
    "# 5. Test for Normality of residuals using Shapiro-Wilk test\n",
    "shapiro_test = stats.shapiro(results.resid)\n",
    "print(\"\\nShapiro-Wilk test for normality:\")\n",
    "print(\"Statistic:\", shapiro_test[0], \"p-value:\", shapiro_test[1])"
   ]
  },
  {
   "cell_type": "code",
   "execution_count": null,
   "id": "e8146749",
   "metadata": {},
   "outputs": [],
   "source": [
    "# 6. Identify influential points using leverage and Cook's distance\n",
    "influence = results.get_influence()\n",
    "cooks_distance = influence.cooks_distance[0]"
   ]
  },
  {
   "cell_type": "code",
   "execution_count": null,
   "id": "2c2d2fc3",
   "metadata": {},
   "outputs": [],
   "source": [
    "# Plot Cook's Distance\n",
    "plt.figure(figsize=(8, 6))\n",
    "plt.stem(np.arange(len(cooks_distance)), cooks_distance, markerfmt=\",\")\n",
    "plt.title(\"Cook's Distance\")\n",
    "plt.xlabel(\"Observation Index\")\n",
    "plt.ylabel(\"Cook's Distance\")\n",
    "plt.show()"
   ]
  },
  {
   "cell_type": "code",
   "execution_count": null,
   "id": "17bc1ed3",
   "metadata": {},
   "outputs": [],
   "source": [
    "# 7. Check if residuals are autocorrelated using Durbin-Watson test\n",
    "dw_statistic = sm.stats.durbin_watson(results.resid)\n",
    "print(\"\\nDurbin-Watson statistic:\", dw_statistic)"
   ]
  },
  {
   "cell_type": "markdown",
   "id": "d51e9fc8",
   "metadata": {},
   "source": [
    "Data set still contains hetrosedasity not working with log transformation or any other method of transformation"
   ]
  },
  {
   "cell_type": "markdown",
   "id": "59d53cf2",
   "metadata": {},
   "source": [
    "## Using Weighted Least Square Regression Model"
   ]
  },
  {
   "cell_type": "code",
   "execution_count": null,
   "id": "07aaf987",
   "metadata": {},
   "outputs": [],
   "source": [
    "df_f.columns"
   ]
  },
  {
   "cell_type": "code",
   "execution_count": null,
   "id": "3251f412",
   "metadata": {},
   "outputs": [],
   "source": [
    "import statsmodels.api as sm\n",
    "\n",
    "# Example: Use the inverse of the fitted values as weights (or some other function of the data)\n",
    "weights = 1 / (df['price'] ** 2)  # This is just an example\n",
    "\n",
    "# Fit Weighted Least Squares (WLS) model\n",
    "wls_model = sm.WLS(df['price'], sm.add_constant(df[['x1', 'x2']]), weights=weights).fit()\n",
    "print(wls_model.summary())"
   ]
  },
  {
   "cell_type": "markdown",
   "id": "f697b7ab-589e-4050-b479-28ed0219b9b6",
   "metadata": {},
   "source": [
    "## END OF NOTEBOOK"
   ]
  },
  {
   "cell_type": "code",
   "execution_count": null,
   "id": "6fe4558d",
   "metadata": {},
   "outputs": [],
   "source": []
  }
 ],
 "metadata": {
  "kernelspec": {
   "display_name": "Python 3 (ipykernel)",
   "language": "python",
   "name": "python3"
  },
  "language_info": {
   "codemirror_mode": {
    "name": "ipython",
    "version": 3
   },
   "file_extension": ".py",
   "mimetype": "text/x-python",
   "name": "python",
   "nbconvert_exporter": "python",
   "pygments_lexer": "ipython3",
   "version": "3.10.9"
  }
 },
 "nbformat": 4,
 "nbformat_minor": 5
}
